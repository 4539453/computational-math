{
  "nbformat": 4,
  "nbformat_minor": 0,
  "metadata": {
    "colab": {
      "provenance": [],
      "collapsed_sections": [
        "AvQia9jkw8ud",
        "0ShJtUX-xEVA",
        "CsE_FYa5xdb9"
      ],
      "authorship_tag": "ABX9TyOfH5//DEP+UkwROSlgddm2",
      "include_colab_link": true
    },
    "kernelspec": {
      "name": "python3",
      "display_name": "Python 3"
    },
    "language_info": {
      "name": "python"
    }
  },
  "cells": [
    {
      "cell_type": "markdown",
      "metadata": {
        "id": "view-in-github",
        "colab_type": "text"
      },
      "source": [
        "<a href=\"https://colab.research.google.com/github/4539453/computational-math/blob/main/sphere_flight.ipynb\" target=\"_parent\"><img src=\"https://colab.research.google.com/assets/colab-badge.svg\" alt=\"Open In Colab\"/></a>"
      ]
    },
    {
      "cell_type": "markdown",
      "source": [
        "# Simulating Sphere Flight"
      ],
      "metadata": {
        "id": "utedRmTaGFlJ"
      }
    },
    {
      "cell_type": "markdown",
      "source": [
        "## System"
      ],
      "metadata": {
        "id": "AvQia9jkw8ud"
      }
    },
    {
      "cell_type": "code",
      "execution_count": 1,
      "metadata": {
        "id": "ECL7vbRZ1b8m"
      },
      "outputs": [],
      "source": [
        "from types import SimpleNamespace\n",
        "from copy import copy\n",
        "import pandas as pd\n",
        "\n",
        "\n",
        "class SettableNamespace(SimpleNamespace):\n",
        "  \"\"\"Collection of parameters\"\"\"\n",
        "  def __init__(self, namespace=None, **kwargs):\n",
        "    super().__init__()\n",
        "    if namespace:\n",
        "      self.__dict__.update(namespace.__dict__)\n",
        "    self.__dict__.update(kwargs)\n",
        "\n",
        "  def get(self, name, default=None):\n",
        "    try:\n",
        "        return self.__getattribute__(name, default)\n",
        "    except AttributeError:\n",
        "        return default\n",
        "\n",
        "  def set(self, **variables):\n",
        "    # new = copy(self)\n",
        "    # new.__dict__.update(variables)\n",
        "    # return new\n",
        "    return self.__dict__.update(variables)\n",
        "\n",
        "\n",
        "class System(SettableNamespace):\n",
        "  pass\n",
        "\n",
        "\n",
        "class Params(SettableNamespace):\n",
        "  pass\n",
        "\n",
        "\n",
        "def State(**variables):\n",
        "  \"\"\"Values of state variables\"\"\"\n",
        "  return pd.Series(variables, name='state')\n",
        "\n",
        "\n",
        "def Vector(x, y):\n",
        "  return pd.Series(dict(x=x, y=y))\n",
        "\n",
        "\n",
        "def show(obj):\n",
        "  \"\"\"Display a Series or Namespace as a DataFrame\"\"\"\n",
        "  if isinstance(obj, pd.Series):\n",
        "    df = pd.DataFrame(obj)\n",
        "    return df\n",
        "  elif hasattr(obj, '__dict__'):\n",
        "    return pd.DataFrame(pd.Series(obj.__dict__),\n",
        "                        columns=['value'])\n",
        "  else:\n",
        "    return obj\n"
      ]
    },
    {
      "cell_type": "markdown",
      "source": [
        "## Plot"
      ],
      "metadata": {
        "id": "1SZXh8bbxRg3"
      }
    },
    {
      "cell_type": "code",
      "source": [
        "import matplotlib.pyplot as plt\n",
        "\n",
        "def decorate(**options):\n",
        "  \"\"\"decorate(title='Title',\n",
        "              xlabel='x',\n",
        "              ylabel='y')\n",
        "  https://matplotlib.org/api/axes_api.html\n",
        "  \"\"\"\n",
        "  ax = plt.gca()\n",
        "  ax.set(**options)\n",
        "  ax.axis('equal')\n",
        "\n",
        "  handles, labels = ax.get_legend_handles_labels()\n",
        "  if handles:\n",
        "      ax.legend(handles, labels)\n",
        "\n",
        "  plt.tight_layout()\n",
        "\n",
        "def make_series(x, y):\n",
        "    if isinstance(y, pd.Series):\n",
        "        y = y.values\n",
        "    series = pd.Series(y, index=x)\n",
        "    # series.index.name = 'index'\n",
        "    return series\n"
      ],
      "metadata": {
        "id": "hddnB4__w5jt"
      },
      "execution_count": 2,
      "outputs": []
    },
    {
      "cell_type": "markdown",
      "source": [
        "## IVP wrapper"
      ],
      "metadata": {
        "id": "0ShJtUX-xEVA"
      }
    },
    {
      "cell_type": "code",
      "source": [
        "from numpy import linspace\n",
        "from scipy.integrate import solve_ivp\n",
        "\n",
        "def TimeFrame(*args, **kwargs):\n",
        "  \"\"\"Maps from time to State\"\"\"\n",
        "  return pd.DataFrame(*args, **kwargs)\n",
        "\n",
        "def run_solve_ivp(system, slope_func, **options):\n",
        "\n",
        "  t_0 = getattr(system, \"t_0\", 0)\n",
        "\n",
        "  events = options.get('events', [])\n",
        "\n",
        "  # if there's one event, put it in a list\n",
        "  try:\n",
        "    iter(events)\n",
        "  except TypeError:\n",
        "    events = [events]\n",
        "\n",
        "  for event in events:\n",
        "    # make events terminal if not specified\n",
        "    if not hasattr(event, 'terminal'):\n",
        "      event.terminal = True\n",
        "\n",
        "  # run the solver\n",
        "  bunch = solve_ivp(slope_func, \n",
        "                    [t_0, system.t_end],\n",
        "                    system.init,\n",
        "                    args=[system],\n",
        "                    **options)\n",
        "\n",
        "  # separate the results from the details\n",
        "  y = bunch.pop(\"y\")\n",
        "  t = bunch.pop(\"t\")\n",
        "\n",
        "  columns = system.init.index\n",
        "\n",
        "  # results at equally-spaced points\n",
        "  if options.get('dense_output'):\n",
        "    try:\n",
        "      num = system.num\n",
        "    except AttributeError:\n",
        "      num = 69\n",
        "    t_final = t[-1]\n",
        "    t_array = linspace(t_0, t_final, num)\n",
        "    y_array = bunch.sol(t_array)\n",
        "    results = TimeFrame(y_array.T, index=t_array, columns=columns)\n",
        "  else:\n",
        "    results = TimeFrame(y.T, index=t, columns=columns)\n",
        "\n",
        "  return results, bunch"
      ],
      "metadata": {
        "id": "aUGWGrGlveiE"
      },
      "execution_count": 3,
      "outputs": []
    },
    {
      "cell_type": "markdown",
      "source": [
        "## Some math"
      ],
      "metadata": {
        "id": "CsE_FYa5xdb9"
      }
    },
    {
      "cell_type": "code",
      "source": [
        "import numpy as np\n",
        "from numpy import pi\n",
        "\n",
        "def pol2cart(alpha: float, radius: float) -> Vector:\n",
        "  x = radius * np.cos(alpha)\n",
        "  y = radius * np.sin(alpha)\n",
        "  return Vector(x, y)\n",
        "\n",
        "def sphere_mass(diameter: float, rho: float) -> float:\n",
        "  volume = 4/3 * pi * (diameter/2)**3\n",
        "  return volume * rho\n",
        "\n",
        "def vector_norm(v: Vector) -> float:\n",
        "  return np.linalg.norm(v)\n",
        "\n",
        "def vector_hat(v: Vector) -> Vector:\n",
        "  mag = vector_norm(v)\n",
        "  if mag == 0:\n",
        "    return v\n",
        "  else:\n",
        "    return v / mag"
      ],
      "metadata": {
        "id": "XaA_cBhnPhIp"
      },
      "execution_count": 4,
      "outputs": []
    },
    {
      "cell_type": "markdown",
      "source": [
        "## Simulation"
      ],
      "metadata": {
        "id": "IGWUcnwfxnSN"
      }
    },
    {
      "cell_type": "code",
      "source": [
        "from numpy import pi, deg2rad\n",
        "\n",
        "def make_system(params: Params) -> System:\n",
        "  theta = deg2rad(params.angle)\n",
        "  vx, vy = pol2cart(theta, params.speed)\n",
        "\n",
        "  init = State(x=params.x, y=params.y, vx=vx, vy=vy)\n",
        "  middel = pi * (params.diameter/2)**2\n",
        "  mass = sphere_mass(params.diameter, params.rho)\n",
        "  return System(params,\n",
        "                init=init,\n",
        "                middel=middel,\n",
        "                mass=mass)\n",
        "\n",
        "def acceleration(V: Vector, system: System) -> Vector:\n",
        "  mass, g = system.mass, system.g\n",
        "\n",
        "  a_drag = drag_force(V, system) / mass\n",
        "  a_grav = g * Vector(0, -1)\n",
        "  return a_drag + a_grav\n",
        "  \n",
        "def drag_force(V: Vector, system: System) -> Vector:\n",
        "  C_d, rho_air, middel = system.C_d, system.rho_air, system.middel\n",
        "  \n",
        "  magnitude = C_d * rho_air * middel * vector_norm(V)**2 / 2\n",
        "  direction = -vector_hat(V)\n",
        "  return  direction * magnitude"
      ],
      "metadata": {
        "id": "Ob-qx0zcIcWM"
      },
      "execution_count": 5,
      "outputs": []
    },
    {
      "cell_type": "code",
      "source": [
        "from typing import Tuple\n",
        "\n",
        "def slope_func(t, state: np.ndarray, system: System) -> Tuple:\n",
        "  x, y, vx, vy = state\n",
        "  V = Vector(vx, vy)\n",
        "\n",
        "  A = acceleration(V, system)\n",
        "  return V.x, V.y, A.x, A.y\n",
        "\n",
        "def event(t, state, system):\n",
        "  x, y, vx, vy = state\n",
        "  return y"
      ],
      "metadata": {
        "id": "MSGoi6QhvK5e"
      },
      "execution_count": 6,
      "outputs": []
    },
    {
      "cell_type": "code",
      "source": [
        "params = Params(\n",
        "  x = 0,            # [m]\n",
        "  y = 1,            # [m]\n",
        "  angle = 15,       # [degree]\n",
        "  speed = 40,       # [m / s]\n",
        "\n",
        "  diameter = 5e-2,  # [m]\n",
        "  rho = 27,         # body density [kg/m**3]\n",
        "  \n",
        "  C_d = 0.3,        # coef\n",
        "  rho_air = 1.2,    # [kg/m**3]\n",
        "  g = 9.8,          # [m/s**2]\n",
        "\n",
        "  t_end = 10,       # [s]\n",
        "  num=69            # number of points\n",
        ")\n",
        "\n",
        "system = make_system(params)\n",
        "\n",
        "results, details = run_solve_ivp(\n",
        "    system,\n",
        "    slope_func,\n",
        "    events=event,\n",
        "    dense_output=True\n",
        "    )\n",
        "details.message"
      ],
      "metadata": {
        "colab": {
          "base_uri": "https://localhost:8080/",
          "height": 36
        },
        "id": "WBEgl4AA4gGH",
        "outputId": "2706cfed-179b-469d-e092-fa457c9ee5ed"
      },
      "execution_count": 7,
      "outputs": [
        {
          "output_type": "execute_result",
          "data": {
            "text/plain": [
              "'A termination event occurred.'"
            ],
            "application/vnd.google.colaboratory.intrinsic+json": {
              "type": "string"
            }
          },
          "metadata": {},
          "execution_count": 7
        }
      ]
    },
    {
      "cell_type": "code",
      "source": [
        "results"
      ],
      "metadata": {
        "colab": {
          "base_uri": "https://localhost:8080/",
          "height": 424
        },
        "id": "8VNamwvgoo-f",
        "outputId": "75db0ace-9c0d-40ed-d74e-9813863a46ac"
      },
      "execution_count": 8,
      "outputs": [
        {
          "output_type": "execute_result",
          "data": {
            "text/plain": [
              "                  x         y         vx         vy\n",
              "0.000000   0.000000  1.000000  38.637033  10.352762\n",
              "0.017851   0.644751  1.171266  33.809657   8.895247\n",
              "0.035701   1.213473  1.319393  30.062884   7.744284\n",
              "0.053552   1.722418  1.448991  27.067000   6.806334\n",
              "0.071402   2.183117  1.563324  24.612630   6.022096\n",
              "...             ...       ...        ...        ...\n",
              "1.142438  11.224714  0.350635   3.509155  -4.770546\n",
              "1.160288  11.286705  0.264893   3.435654  -4.843845\n",
              "1.178139  11.347392  0.177853   3.363508  -4.915315\n",
              "1.195990  11.406799  0.089545   3.292684  -4.984966\n",
              "1.213840  11.464949  0.000000   3.223148  -5.052812\n",
              "\n",
              "[69 rows x 4 columns]"
            ],
            "text/html": [
              "\n",
              "  <div id=\"df-5895b450-c544-4211-b638-927bf321e047\">\n",
              "    <div class=\"colab-df-container\">\n",
              "      <div>\n",
              "<style scoped>\n",
              "    .dataframe tbody tr th:only-of-type {\n",
              "        vertical-align: middle;\n",
              "    }\n",
              "\n",
              "    .dataframe tbody tr th {\n",
              "        vertical-align: top;\n",
              "    }\n",
              "\n",
              "    .dataframe thead th {\n",
              "        text-align: right;\n",
              "    }\n",
              "</style>\n",
              "<table border=\"1\" class=\"dataframe\">\n",
              "  <thead>\n",
              "    <tr style=\"text-align: right;\">\n",
              "      <th></th>\n",
              "      <th>x</th>\n",
              "      <th>y</th>\n",
              "      <th>vx</th>\n",
              "      <th>vy</th>\n",
              "    </tr>\n",
              "  </thead>\n",
              "  <tbody>\n",
              "    <tr>\n",
              "      <th>0.000000</th>\n",
              "      <td>0.000000</td>\n",
              "      <td>1.000000</td>\n",
              "      <td>38.637033</td>\n",
              "      <td>10.352762</td>\n",
              "    </tr>\n",
              "    <tr>\n",
              "      <th>0.017851</th>\n",
              "      <td>0.644751</td>\n",
              "      <td>1.171266</td>\n",
              "      <td>33.809657</td>\n",
              "      <td>8.895247</td>\n",
              "    </tr>\n",
              "    <tr>\n",
              "      <th>0.035701</th>\n",
              "      <td>1.213473</td>\n",
              "      <td>1.319393</td>\n",
              "      <td>30.062884</td>\n",
              "      <td>7.744284</td>\n",
              "    </tr>\n",
              "    <tr>\n",
              "      <th>0.053552</th>\n",
              "      <td>1.722418</td>\n",
              "      <td>1.448991</td>\n",
              "      <td>27.067000</td>\n",
              "      <td>6.806334</td>\n",
              "    </tr>\n",
              "    <tr>\n",
              "      <th>0.071402</th>\n",
              "      <td>2.183117</td>\n",
              "      <td>1.563324</td>\n",
              "      <td>24.612630</td>\n",
              "      <td>6.022096</td>\n",
              "    </tr>\n",
              "    <tr>\n",
              "      <th>...</th>\n",
              "      <td>...</td>\n",
              "      <td>...</td>\n",
              "      <td>...</td>\n",
              "      <td>...</td>\n",
              "    </tr>\n",
              "    <tr>\n",
              "      <th>1.142438</th>\n",
              "      <td>11.224714</td>\n",
              "      <td>0.350635</td>\n",
              "      <td>3.509155</td>\n",
              "      <td>-4.770546</td>\n",
              "    </tr>\n",
              "    <tr>\n",
              "      <th>1.160288</th>\n",
              "      <td>11.286705</td>\n",
              "      <td>0.264893</td>\n",
              "      <td>3.435654</td>\n",
              "      <td>-4.843845</td>\n",
              "    </tr>\n",
              "    <tr>\n",
              "      <th>1.178139</th>\n",
              "      <td>11.347392</td>\n",
              "      <td>0.177853</td>\n",
              "      <td>3.363508</td>\n",
              "      <td>-4.915315</td>\n",
              "    </tr>\n",
              "    <tr>\n",
              "      <th>1.195990</th>\n",
              "      <td>11.406799</td>\n",
              "      <td>0.089545</td>\n",
              "      <td>3.292684</td>\n",
              "      <td>-4.984966</td>\n",
              "    </tr>\n",
              "    <tr>\n",
              "      <th>1.213840</th>\n",
              "      <td>11.464949</td>\n",
              "      <td>0.000000</td>\n",
              "      <td>3.223148</td>\n",
              "      <td>-5.052812</td>\n",
              "    </tr>\n",
              "  </tbody>\n",
              "</table>\n",
              "<p>69 rows × 4 columns</p>\n",
              "</div>\n",
              "      <button class=\"colab-df-convert\" onclick=\"convertToInteractive('df-5895b450-c544-4211-b638-927bf321e047')\"\n",
              "              title=\"Convert this dataframe to an interactive table.\"\n",
              "              style=\"display:none;\">\n",
              "        \n",
              "  <svg xmlns=\"http://www.w3.org/2000/svg\" height=\"24px\"viewBox=\"0 0 24 24\"\n",
              "       width=\"24px\">\n",
              "    <path d=\"M0 0h24v24H0V0z\" fill=\"none\"/>\n",
              "    <path d=\"M18.56 5.44l.94 2.06.94-2.06 2.06-.94-2.06-.94-.94-2.06-.94 2.06-2.06.94zm-11 1L8.5 8.5l.94-2.06 2.06-.94-2.06-.94L8.5 2.5l-.94 2.06-2.06.94zm10 10l.94 2.06.94-2.06 2.06-.94-2.06-.94-.94-2.06-.94 2.06-2.06.94z\"/><path d=\"M17.41 7.96l-1.37-1.37c-.4-.4-.92-.59-1.43-.59-.52 0-1.04.2-1.43.59L10.3 9.45l-7.72 7.72c-.78.78-.78 2.05 0 2.83L4 21.41c.39.39.9.59 1.41.59.51 0 1.02-.2 1.41-.59l7.78-7.78 2.81-2.81c.8-.78.8-2.07 0-2.86zM5.41 20L4 18.59l7.72-7.72 1.47 1.35L5.41 20z\"/>\n",
              "  </svg>\n",
              "      </button>\n",
              "      \n",
              "  <style>\n",
              "    .colab-df-container {\n",
              "      display:flex;\n",
              "      flex-wrap:wrap;\n",
              "      gap: 12px;\n",
              "    }\n",
              "\n",
              "    .colab-df-convert {\n",
              "      background-color: #E8F0FE;\n",
              "      border: none;\n",
              "      border-radius: 50%;\n",
              "      cursor: pointer;\n",
              "      display: none;\n",
              "      fill: #1967D2;\n",
              "      height: 32px;\n",
              "      padding: 0 0 0 0;\n",
              "      width: 32px;\n",
              "    }\n",
              "\n",
              "    .colab-df-convert:hover {\n",
              "      background-color: #E2EBFA;\n",
              "      box-shadow: 0px 1px 2px rgba(60, 64, 67, 0.3), 0px 1px 3px 1px rgba(60, 64, 67, 0.15);\n",
              "      fill: #174EA6;\n",
              "    }\n",
              "\n",
              "    [theme=dark] .colab-df-convert {\n",
              "      background-color: #3B4455;\n",
              "      fill: #D2E3FC;\n",
              "    }\n",
              "\n",
              "    [theme=dark] .colab-df-convert:hover {\n",
              "      background-color: #434B5C;\n",
              "      box-shadow: 0px 1px 3px 1px rgba(0, 0, 0, 0.15);\n",
              "      filter: drop-shadow(0px 1px 2px rgba(0, 0, 0, 0.3));\n",
              "      fill: #FFFFFF;\n",
              "    }\n",
              "  </style>\n",
              "\n",
              "      <script>\n",
              "        const buttonEl =\n",
              "          document.querySelector('#df-5895b450-c544-4211-b638-927bf321e047 button.colab-df-convert');\n",
              "        buttonEl.style.display =\n",
              "          google.colab.kernel.accessAllowed ? 'block' : 'none';\n",
              "\n",
              "        async function convertToInteractive(key) {\n",
              "          const element = document.querySelector('#df-5895b450-c544-4211-b638-927bf321e047');\n",
              "          const dataTable =\n",
              "            await google.colab.kernel.invokeFunction('convertToInteractive',\n",
              "                                                     [key], {});\n",
              "          if (!dataTable) return;\n",
              "\n",
              "          const docLinkHtml = 'Like what you see? Visit the ' +\n",
              "            '<a target=\"_blank\" href=https://colab.research.google.com/notebooks/data_table.ipynb>data table notebook</a>'\n",
              "            + ' to learn more about interactive tables.';\n",
              "          element.innerHTML = '';\n",
              "          dataTable['output_type'] = 'display_data';\n",
              "          await google.colab.output.renderOutput(dataTable, element);\n",
              "          const docLink = document.createElement('div');\n",
              "          docLink.innerHTML = docLinkHtml;\n",
              "          element.appendChild(docLink);\n",
              "        }\n",
              "      </script>\n",
              "    </div>\n",
              "  </div>\n",
              "  "
            ]
          },
          "metadata": {},
          "execution_count": 8
        }
      ]
    },
    {
      "cell_type": "code",
      "source": [
        "x_dist = results.iloc[-1].x\n",
        "x_dist"
      ],
      "metadata": {
        "colab": {
          "base_uri": "https://localhost:8080/"
        },
        "id": "qATqhMDQBCo5",
        "outputId": "97bc3e08-4546-4b5d-b165-5435ebf9d159"
      },
      "execution_count": 9,
      "outputs": [
        {
          "output_type": "execute_result",
          "data": {
            "text/plain": [
              "11.46494904000332"
            ]
          },
          "metadata": {},
          "execution_count": 9
        }
      ]
    },
    {
      "cell_type": "code",
      "source": [
        "results.x.plot()\n",
        "results.y.plot()\n",
        "\n",
        "decorate(xlabel='Time (s)',\n",
        "         ylabel='Position (m)')"
      ],
      "metadata": {
        "colab": {
          "base_uri": "https://localhost:8080/",
          "height": 294
        },
        "id": "3BwcDchKFUry",
        "outputId": "704b57d8-9a6b-46b7-c504-b9000e18613f"
      },
      "execution_count": 10,
      "outputs": [
        {
          "output_type": "display_data",
          "data": {
            "text/plain": [
              "<Figure size 432x288 with 1 Axes>"
            ],
            "image/png": "[encoded data removed]"
          },
          "metadata": {
            "needs_background": "light"
          }
        }
      ]
    },
    {
      "cell_type": "code",
      "source": [
        "make_series(results.x, results.y).plot(label='trajectory')\n",
        "\n",
        "decorate(xlabel='x position (m)',\n",
        "         ylabel='y position (m)')"
      ],
      "metadata": {
        "colab": {
          "base_uri": "https://localhost:8080/",
          "height": 297
        },
        "id": "Gy1HtFciGajr",
        "outputId": "27748d52-0641-4781-b260-ac0488f925cb"
      },
      "execution_count": 11,
      "outputs": [
        {
          "output_type": "display_data",
          "data": {
            "text/plain": [
              "<Figure size 432x288 with 1 Axes>"
            ],
            "image/png": "[encoded data removed]"
          },
          "metadata": {
            "needs_background": "light"
          }
        }
      ]
    },
    {
      "cell_type": "markdown",
      "source": [
        "## Dataset"
      ],
      "metadata": {
        "id": "2vQuJHrB2Azw"
      }
    },
    {
      "cell_type": "code",
      "source": [
        "%%script echo skipping\n",
        "params = Params(\n",
        "  x = 0,            # [m]\n",
        "  y = 0.5,          # [m]\n",
        "  angle = 85,       # [degree]\n",
        "  speed = 10,       # [m / s]\n",
        "\n",
        "  diameter = 5e-2,  # [m]\n",
        "  rho = 160,        # body density [kg/m**3]\n",
        "  \n",
        "  C_d = 0.3,        # coef\n",
        "  rho_air = 1.8,    # [kg/m**3] https://en.wikipedia.org/wiki/Density_of_air#Dry_air\n",
        "  g = 9.8,          # [m/s**2]\n",
        "\n",
        "  t_end = 15,       # [s]\n",
        ")\n",
        "\n",
        "show(params)"
      ],
      "metadata": {
        "id": "FIdNE8RwzmZ8",
        "colab": {
          "base_uri": "https://localhost:8080/"
        },
        "outputId": "8d0775c7-0923-4ea5-eed4-f20a7d672c42"
      },
      "execution_count": 12,
      "outputs": [
        {
          "output_type": "stream",
          "name": "stdout",
          "text": [
            "skipping\n"
          ]
        }
      ]
    },
    {
      "cell_type": "code",
      "source": [
        "%%script echo skipping\n",
        "system = make_system(params)\n",
        "results, details = run_solve_ivp(system,\n",
        "                                 slope_func,\n",
        "                                 events=event)\n",
        "\n",
        "results"
      ],
      "metadata": {
        "colab": {
          "base_uri": "https://localhost:8080/"
        },
        "id": "Pl7f1mIf44Kt",
        "outputId": "370b5a96-b10f-47e5-a7d6-c7fc15492863"
      },
      "execution_count": 13,
      "outputs": [
        {
          "output_type": "stream",
          "name": "stdout",
          "text": [
            "skipping\n"
          ]
        }
      ]
    },
    {
      "cell_type": "code",
      "source": [
        "%%script echo skipping\n",
        "from tqdm import tqdm\n",
        "\n",
        "def make_dataset(params: Params) -> pd.DataFrame:\n",
        "  df =  pd.DataFrame(columns=params.__dict__.keys())\n",
        "  df = fill_dataset(df, params)\n",
        "  return df\n",
        "\n",
        "def fill_dataset(df: pd.DataFrame, params: Params) -> pd.DataFrame:\n",
        "  for _ in tqdm(change_params(params)):\n",
        "    system = make_system(params)\n",
        "    results, details = run_solve_ivp(system,\n",
        "                                     slope_func,\n",
        "                                     events=event)\n",
        "    result_row = concate(params, results)\n",
        "    df = df.append(result_row, ignore_index=True)\n",
        "  return df\n",
        "\n",
        "def change_params(params: Params) -> Params:\n",
        "  for angle in range(5, 85, 8):\n",
        "    params.angle = angle\n",
        "\n",
        "    for diameter in range(5, 15, 1):\n",
        "      params.diameter = diameter * 1e-2\n",
        "\n",
        "      for speed in range(10, 50, 5):\n",
        "        params.speed = speed\n",
        "\n",
        "        for y in np.arange(5e-1, 1, 5e-2):\n",
        "          params.y = y\n",
        "\n",
        "          yield params\n",
        "\n",
        "def concate(params: Params, results: pd.DataFrame) -> dict:\n",
        "  res = params.__dict__\n",
        "  res['x_dist'] = results.iloc[-1].x\n",
        "  res['t'] = results.index[-1]\n",
        "  return res\n",
        "\n",
        "\n",
        "dataset = make_dataset(params)\n",
        "dataset = dataset.drop(columns='t_end')\n",
        "\n",
        "dataset"
      ],
      "metadata": {
        "colab": {
          "base_uri": "https://localhost:8080/"
        },
        "id": "lLdmd0y75Xib",
        "outputId": "33716aa4-74ea-4a09-c822-09153753f63b"
      },
      "execution_count": 14,
      "outputs": [
        {
          "output_type": "stream",
          "name": "stdout",
          "text": [
            "skipping\n"
          ]
        }
      ]
    },
    {
      "cell_type": "code",
      "source": [
        "%%script echo skipping\n",
        "from google.colab import files\n",
        "\n",
        "dataset.to_csv('quasi_experiment_of_sphere_flight.csv', encoding = 'utf-8') \n",
        "files.download('quasi_experiment_of_sphere_flight.csv')"
      ],
      "metadata": {
        "colab": {
          "base_uri": "https://localhost:8080/"
        },
        "id": "DKNWw02LSsXv",
        "outputId": "89b423b4-c147-4bbd-d336-fa251d6f8f80"
      },
      "execution_count": 15,
      "outputs": [
        {
          "output_type": "stream",
          "name": "stdout",
          "text": [
            "skipping\n"
          ]
        }
      ]
    },
    {
      "cell_type": "markdown",
      "source": [
        "## Models"
      ],
      "metadata": {
        "id": "Tx2TM-SqLNpS"
      }
    },
    {
      "cell_type": "markdown",
      "source": [
        "### Data preporation"
      ],
      "metadata": {
        "id": "wqgB_pVpLRbf"
      }
    },
    {
      "cell_type": "code",
      "source": [
        "from random import seed, uniform\n",
        "import pandas as pd\n",
        "\n",
        "seed(7)\n",
        "\n",
        "def make_noise_data(s: pd.Series, err_presentage: float) -> pd.Series:\n",
        "  return s + s.apply(lambda x: uniform(-x*err_presentage, x*err_presentage))\n",
        "\n",
        "data = pd.read_csv('https://gist.githubusercontent.com/4539453/\\\n",
        "406368d0ed2d9d407f4cff1b6b9ef90d/raw/628b65fbc502f0b3ad69df758f4f0e93dcebe015/\\\n",
        "quasi_experiment_of_sphere_flight.csv',\n",
        "                   index_col=0)\n",
        "\n",
        "data.x_dist = make_noise_data(data.x_dist, 5e-2)\n",
        "data.speed  = make_noise_data(data.speed, 2e-2)\n",
        "data.angle  = make_noise_data(data.angle, 2e-2)\n",
        "data.y      = make_noise_data(data.y, 2e-2)\n",
        "\n",
        "data = data.round(2)\n",
        "data = data.drop(columns=['t'])\n",
        "# data = data.drop(columns=['t', 'C_d'])\n",
        "data = data.sample(frac=1, random_state=1).reset_index(drop=True)\n",
        "\n",
        "data.tail()"
      ],
      "metadata": {
        "colab": {
          "base_uri": "https://localhost:8080/",
          "height": 206
        },
        "id": "70KUmAo7WcnH",
        "outputId": "2a0a2b80-b32a-4bbd-97d0-fc7ee95d229d"
      },
      "execution_count": 16,
      "outputs": [
        {
          "output_type": "execute_result",
          "data": {
            "text/plain": [
              "        x     y  angle  speed  diameter    rho  C_d  rho_air    g  x_dist\n",
              "7995  0.0  0.74  77.28  15.13      0.14  160.0  0.3      1.8  9.8    8.04\n",
              "7996  0.0  0.60  53.36  45.12      0.09  160.0  0.3      1.8  9.8   45.42\n",
              "7997  0.0  0.50  36.35  40.16      0.14  160.0  0.3      1.8  9.8   58.46\n",
              "7998  0.0  0.76   5.04  45.02      0.07  160.0  0.3      1.8  9.8   23.76\n",
              "7999  0.0  0.86  52.99  24.59      0.09  160.0  0.3      1.8  9.8   26.41"
            ],
            "text/html": [
              "\n",
              "  <div id=\"df-42d8de95-7ca9-425f-91ab-e48fa639c054\">\n",
              "    <div class=\"colab-df-container\">\n",
              "      <div>\n",
              "<style scoped>\n",
              "    .dataframe tbody tr th:only-of-type {\n",
              "        vertical-align: middle;\n",
              "    }\n",
              "\n",
              "    .dataframe tbody tr th {\n",
              "        vertical-align: top;\n",
              "    }\n",
              "\n",
              "    .dataframe thead th {\n",
              "        text-align: right;\n",
              "    }\n",
              "</style>\n",
              "<table border=\"1\" class=\"dataframe\">\n",
              "  <thead>\n",
              "    <tr style=\"text-align: right;\">\n",
              "      <th></th>\n",
              "      <th>x</th>\n",
              "      <th>y</th>\n",
              "      <th>angle</th>\n",
              "      <th>speed</th>\n",
              "      <th>diameter</th>\n",
              "      <th>rho</th>\n",
              "      <th>C_d</th>\n",
              "      <th>rho_air</th>\n",
              "      <th>g</th>\n",
              "      <th>x_dist</th>\n",
              "    </tr>\n",
              "  </thead>\n",
              "  <tbody>\n",
              "    <tr>\n",
              "      <th>7995</th>\n",
              "      <td>0.0</td>\n",
              "      <td>0.74</td>\n",
              "      <td>77.28</td>\n",
              "      <td>15.13</td>\n",
              "      <td>0.14</td>\n",
              "      <td>160.0</td>\n",
              "      <td>0.3</td>\n",
              "      <td>1.8</td>\n",
              "      <td>9.8</td>\n",
              "      <td>8.04</td>\n",
              "    </tr>\n",
              "    <tr>\n",
              "      <th>7996</th>\n",
              "      <td>0.0</td>\n",
              "      <td>0.60</td>\n",
              "      <td>53.36</td>\n",
              "      <td>45.12</td>\n",
              "      <td>0.09</td>\n",
              "      <td>160.0</td>\n",
              "      <td>0.3</td>\n",
              "      <td>1.8</td>\n",
              "      <td>9.8</td>\n",
              "      <td>45.42</td>\n",
              "    </tr>\n",
              "    <tr>\n",
              "      <th>7997</th>\n",
              "      <td>0.0</td>\n",
              "      <td>0.50</td>\n",
              "      <td>36.35</td>\n",
              "      <td>40.16</td>\n",
              "      <td>0.14</td>\n",
              "      <td>160.0</td>\n",
              "      <td>0.3</td>\n",
              "      <td>1.8</td>\n",
              "      <td>9.8</td>\n",
              "      <td>58.46</td>\n",
              "    </tr>\n",
              "    <tr>\n",
              "      <th>7998</th>\n",
              "      <td>0.0</td>\n",
              "      <td>0.76</td>\n",
              "      <td>5.04</td>\n",
              "      <td>45.02</td>\n",
              "      <td>0.07</td>\n",
              "      <td>160.0</td>\n",
              "      <td>0.3</td>\n",
              "      <td>1.8</td>\n",
              "      <td>9.8</td>\n",
              "      <td>23.76</td>\n",
              "    </tr>\n",
              "    <tr>\n",
              "      <th>7999</th>\n",
              "      <td>0.0</td>\n",
              "      <td>0.86</td>\n",
              "      <td>52.99</td>\n",
              "      <td>24.59</td>\n",
              "      <td>0.09</td>\n",
              "      <td>160.0</td>\n",
              "      <td>0.3</td>\n",
              "      <td>1.8</td>\n",
              "      <td>9.8</td>\n",
              "      <td>26.41</td>\n",
              "    </tr>\n",
              "  </tbody>\n",
              "</table>\n",
              "</div>\n",
              "      <button class=\"colab-df-convert\" onclick=\"convertToInteractive('df-42d8de95-7ca9-425f-91ab-e48fa639c054')\"\n",
              "              title=\"Convert this dataframe to an interactive table.\"\n",
              "              style=\"display:none;\">\n",
              "        \n",
              "  <svg xmlns=\"http://www.w3.org/2000/svg\" height=\"24px\"viewBox=\"0 0 24 24\"\n",
              "       width=\"24px\">\n",
              "    <path d=\"M0 0h24v24H0V0z\" fill=\"none\"/>\n",
              "    <path d=\"M18.56 5.44l.94 2.06.94-2.06 2.06-.94-2.06-.94-.94-2.06-.94 2.06-2.06.94zm-11 1L8.5 8.5l.94-2.06 2.06-.94-2.06-.94L8.5 2.5l-.94 2.06-2.06.94zm10 10l.94 2.06.94-2.06 2.06-.94-2.06-.94-.94-2.06-.94 2.06-2.06.94z\"/><path d=\"M17.41 7.96l-1.37-1.37c-.4-.4-.92-.59-1.43-.59-.52 0-1.04.2-1.43.59L10.3 9.45l-7.72 7.72c-.78.78-.78 2.05 0 2.83L4 21.41c.39.39.9.59 1.41.59.51 0 1.02-.2 1.41-.59l7.78-7.78 2.81-2.81c.8-.78.8-2.07 0-2.86zM5.41 20L4 18.59l7.72-7.72 1.47 1.35L5.41 20z\"/>\n",
              "  </svg>\n",
              "      </button>\n",
              "      \n",
              "  <style>\n",
              "    .colab-df-container {\n",
              "      display:flex;\n",
              "      flex-wrap:wrap;\n",
              "      gap: 12px;\n",
              "    }\n",
              "\n",
              "    .colab-df-convert {\n",
              "      background-color: #E8F0FE;\n",
              "      border: none;\n",
              "      border-radius: 50%;\n",
              "      cursor: pointer;\n",
              "      display: none;\n",
              "      fill: #1967D2;\n",
              "      height: 32px;\n",
              "      padding: 0 0 0 0;\n",
              "      width: 32px;\n",
              "    }\n",
              "\n",
              "    .colab-df-convert:hover {\n",
              "      background-color: #E2EBFA;\n",
              "      box-shadow: 0px 1px 2px rgba(60, 64, 67, 0.3), 0px 1px 3px 1px rgba(60, 64, 67, 0.15);\n",
              "      fill: #174EA6;\n",
              "    }\n",
              "\n",
              "    [theme=dark] .colab-df-convert {\n",
              "      background-color: #3B4455;\n",
              "      fill: #D2E3FC;\n",
              "    }\n",
              "\n",
              "    [theme=dark] .colab-df-convert:hover {\n",
              "      background-color: #434B5C;\n",
              "      box-shadow: 0px 1px 3px 1px rgba(0, 0, 0, 0.15);\n",
              "      filter: drop-shadow(0px 1px 2px rgba(0, 0, 0, 0.3));\n",
              "      fill: #FFFFFF;\n",
              "    }\n",
              "  </style>\n",
              "\n",
              "      <script>\n",
              "        const buttonEl =\n",
              "          document.querySelector('#df-42d8de95-7ca9-425f-91ab-e48fa639c054 button.colab-df-convert');\n",
              "        buttonEl.style.display =\n",
              "          google.colab.kernel.accessAllowed ? 'block' : 'none';\n",
              "\n",
              "        async function convertToInteractive(key) {\n",
              "          const element = document.querySelector('#df-42d8de95-7ca9-425f-91ab-e48fa639c054');\n",
              "          const dataTable =\n",
              "            await google.colab.kernel.invokeFunction('convertToInteractive',\n",
              "                                                     [key], {});\n",
              "          if (!dataTable) return;\n",
              "\n",
              "          const docLinkHtml = 'Like what you see? Visit the ' +\n",
              "            '<a target=\"_blank\" href=https://colab.research.google.com/notebooks/data_table.ipynb>data table notebook</a>'\n",
              "            + ' to learn more about interactive tables.';\n",
              "          element.innerHTML = '';\n",
              "          dataTable['output_type'] = 'display_data';\n",
              "          await google.colab.output.renderOutput(dataTable, element);\n",
              "          const docLink = document.createElement('div');\n",
              "          docLink.innerHTML = docLinkHtml;\n",
              "          element.appendChild(docLink);\n",
              "        }\n",
              "      </script>\n",
              "    </div>\n",
              "  </div>\n",
              "  "
            ]
          },
          "metadata": {},
          "execution_count": 16
        }
      ]
    },
    {
      "cell_type": "markdown",
      "source": [
        "### Parameter estimation for DEs"
      ],
      "metadata": {
        "id": "svPguDxARz8b"
      }
    },
    {
      "cell_type": "code",
      "source": [
        "# %%script echo skipping\n",
        "from scipy.optimize import least_squares, leastsq\n",
        "from typing import List, Callable, Any\n",
        "\n",
        "def init_systems(make_system: Callable[[Params], System],\n",
        "                 data: pd.DataFrame,\n",
        "                 ) -> List[System]:\n",
        "  systems = []\n",
        "  for i in range(0, data.shape[0]):\n",
        "    params = Params(**data.iloc[i].to_dict())\n",
        "    params.t_end=15\n",
        "    systems.append(make_system(params))\n",
        "  return systems\n",
        "\n",
        "def calc_deltas(guess: np.ndarray, systems: Any) -> List[float]:\n",
        "  deltas = []\n",
        "  for system in systems:\n",
        "    system.C_d = guess[0]\n",
        "    results, details = run_solve_ivp(\n",
        "        system,\n",
        "        slope_func,\n",
        "        events=event,\n",
        "        dense_output=True\n",
        "        )\n",
        "    delta = results.iloc[-1].x - system.x_dist\n",
        "    deltas.append(delta)\n",
        "  return deltas\n",
        "\n",
        "\n",
        "systems = init_systems(make_system, data[:1])\n",
        "guess = [0.1]\n",
        "\n",
        "guess, covs = leastsq(calc_deltas, guess, args=systems)\n",
        "guess[0]"
      ],
      "metadata": {
        "id": "k4B95n7B2ZRO",
        "colab": {
          "base_uri": "https://localhost:8080/"
        },
        "outputId": "fb0d2796-7293-44dd-e8d5-3be5e1e461fb"
      },
      "execution_count": 17,
      "outputs": [
        {
          "output_type": "execute_result",
          "data": {
            "text/plain": [
              "0.27698298053877"
            ]
          },
          "metadata": {},
          "execution_count": 17
        }
      ]
    },
    {
      "cell_type": "markdown",
      "source": [
        "### Regression... boooooring..."
      ],
      "metadata": {
        "id": "ixFqXfU9-D84"
      }
    },
    {
      "cell_type": "code",
      "source": [],
      "metadata": {
        "id": "RWRmrsQL8jVX"
      },
      "execution_count": 17,
      "outputs": []
    }
  ]
}